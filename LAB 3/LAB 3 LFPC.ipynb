{
 "cells": [
  {
   "cell_type": "code",
   "execution_count": 1,
   "id": "14ceda6a",
   "metadata": {},
   "outputs": [],
   "source": [
    "program = open('lab3_program.txt')"
   ]
  },
  {
   "cell_type": "code",
   "execution_count": 2,
   "id": "cb6a8134",
   "metadata": {
    "scrolled": false
   },
   "outputs": [
    {
     "data": {
      "text/plain": [
       "['func main(){',\n",
       " 'let numar1 = 17',\n",
       " 'let numar2 = 100 - 20',\n",
       " 'arr numere = [1, 2, 3, 4, \"verde\"]',\n",
       " 'func add(num1, num2) {',\n",
       " 'suma = num1 + num2',\n",
       " 'return suma',\n",
       " '}',\n",
       " 'add(numar1, numar2)',\n",
       " '}']"
      ]
     },
     "execution_count": 2,
     "metadata": {},
     "output_type": "execute_result"
    }
   ],
   "source": [
    "# reading the input from the .txt\n",
    "mylist = program.readlines()\n",
    "program = []\n",
    "for line in mylist:\n",
    "    newline = line.strip()\n",
    "    program.append(newline)\n",
    "program"
   ]
  },
  {
   "cell_type": "code",
   "execution_count": 3,
   "id": "030749a8",
   "metadata": {},
   "outputs": [],
   "source": [
    "# declaring the keywords\n",
    "keywords_map = {\n",
    "    '{' : \"L_BRACE\",\n",
    "    '}' : \"R_BRACE\",\n",
    "    '(' : \"L_BRACKET\",\n",
    "    ')' : \"R_BRACKET\",\n",
    "    '[' : \"L_SQ_BRACKET\",\n",
    "    ']' : \"R_SQ_BRACKET\",\n",
    "    '\"' : \"DOUBLE_QUOTE\",\n",
    "    '+' : \"PLUS\",\n",
    "    \"-\" : \"MINUS\",\n",
    "    \"=\" : \"EQUAL\",\n",
    "    ',' : \"COMMA\",\n",
    "    'func' : \"FUNCTION\",\n",
    "    'let' : \"VAR\",\n",
    "    'arr' : 'ARRAY',\n",
    "    'return' : \"RETURN\"\n",
    "}"
   ]
  },
  {
   "cell_type": "code",
   "execution_count": 4,
   "id": "d60a3425",
   "metadata": {},
   "outputs": [],
   "source": [
    "# creating a list with the keywords\n",
    "keywords_list = list(keywords_map)"
   ]
  },
  {
   "cell_type": "code",
   "execution_count": 5,
   "id": "a4507985",
   "metadata": {},
   "outputs": [],
   "source": [
    "# token class for saving the tokens \n",
    "class Token:\n",
    "    iden = '' # name\n",
    "    iden_literal = '' # symbol\n",
    "    \n",
    "    def __init__(self, iden, literal):\n",
    "        self.iden = iden\n",
    "        self.iden_literal = literal"
   ]
  },
  {
   "cell_type": "code",
   "execution_count": 6,
   "id": "e5bff21e",
   "metadata": {},
   "outputs": [],
   "source": [
    "class Scanner:\n",
    "    def __init__(self, string):\n",
    "        self.string = string # the input\n",
    "        self.tokens = [] # tokens obtained after scaning\n",
    "        self.literals = [] # the input separated by tokens\n",
    "        \n",
    "    # function to separate the input into tokens    \n",
    "    def get_literals(self, string):\n",
    "        white_space = ' '\n",
    "        lexeme = ''\n",
    "        scanned_list = []\n",
    "        \n",
    "        for i, char in enumerate(string):\n",
    "            if char != white_space:\n",
    "                lexeme += char\n",
    "                if (i+1) < len(string):                \n",
    "                    # splitting condition\n",
    "                    if string[i+1] == white_space or string[i+1] in keywords_list or lexeme in keywords_list:\n",
    "                        if lexeme != '':\n",
    "                            scanned_list.append(lexeme)\n",
    "                            lexeme = ''\n",
    "        if lexeme:\n",
    "            scanned_list.append(lexeme)\n",
    "            \n",
    "        return scanned_list\n",
    "    \n",
    "    # function to tokenize the scanned list \n",
    "    def get_tokens(self, scanned_list):\n",
    "        tok_list = []\n",
    "        \n",
    "        for s in scanned_list:\n",
    "            if s in keywords_map:\n",
    "                temp_class = Token(s, keywords_map[s])\n",
    "                tok_list.append(temp_class.iden_literal)\n",
    "            else:\n",
    "                temp_class = Token(s, s)\n",
    "                tok_list.append(temp_class)\n",
    "                \n",
    "        return tok_list\n",
    "    \n",
    "    # function to initialize the scanning process \n",
    "    def scan_program(self):\n",
    "        \n",
    "        result = []\n",
    "        for line in self.string:\n",
    "            if line != '':\n",
    "                literals = self.get_literals(line)\n",
    "                self.literals.append(literals)\n",
    "                res = self.get_tokens(literals)\n",
    "                for i in range(len(res)):\n",
    "                    if res[i] not in keywords_map.values():\n",
    "                        if res[i-1] == 'DOUBLE_QUOTE':\n",
    "                            res[i] = \"STRING\"\n",
    "                        elif literals[i].isdigit():\n",
    "                            res[i] = \"INTEGER\"\n",
    "                        else:\n",
    "                            res[i] = \"IDENTIFIER\"\n",
    "                result.append(res)\n",
    "        \n",
    "        self.tokens = result\n",
    "        return result"
   ]
  },
  {
   "cell_type": "code",
   "execution_count": 7,
   "id": "7d40d843",
   "metadata": {},
   "outputs": [],
   "source": [
    "lexer = Scanner(program)\n",
    "result = lexer.scan_program()"
   ]
  },
  {
   "cell_type": "code",
   "execution_count": 8,
   "id": "7c788f4b",
   "metadata": {},
   "outputs": [
    {
     "data": {
      "text/plain": [
       "[['FUNCTION', 'IDENTIFIER', 'L_BRACKET', 'R_BRACKET', 'L_BRACE'],\n",
       " ['VAR', 'IDENTIFIER', 'EQUAL', 'INTEGER'],\n",
       " ['VAR', 'IDENTIFIER', 'EQUAL', 'INTEGER', 'MINUS', 'INTEGER'],\n",
       " ['ARRAY',\n",
       "  'IDENTIFIER',\n",
       "  'EQUAL',\n",
       "  'L_SQ_BRACKET',\n",
       "  'INTEGER',\n",
       "  'COMMA',\n",
       "  'INTEGER',\n",
       "  'COMMA',\n",
       "  'INTEGER',\n",
       "  'COMMA',\n",
       "  'INTEGER',\n",
       "  'COMMA',\n",
       "  'DOUBLE_QUOTE',\n",
       "  'STRING',\n",
       "  'DOUBLE_QUOTE',\n",
       "  'R_SQ_BRACKET'],\n",
       " ['FUNCTION',\n",
       "  'IDENTIFIER',\n",
       "  'L_BRACKET',\n",
       "  'IDENTIFIER',\n",
       "  'COMMA',\n",
       "  'IDENTIFIER',\n",
       "  'R_BRACKET',\n",
       "  'L_BRACE'],\n",
       " ['IDENTIFIER', 'EQUAL', 'IDENTIFIER', 'PLUS', 'IDENTIFIER'],\n",
       " ['RETURN', 'IDENTIFIER'],\n",
       " ['R_BRACE'],\n",
       " ['IDENTIFIER', 'L_BRACKET', 'IDENTIFIER', 'COMMA', 'IDENTIFIER', 'R_BRACKET'],\n",
       " ['R_BRACE']]"
      ]
     },
     "execution_count": 8,
     "metadata": {},
     "output_type": "execute_result"
    }
   ],
   "source": [
    "result"
   ]
  },
  {
   "cell_type": "code",
   "execution_count": 9,
   "id": "2ff33db6",
   "metadata": {},
   "outputs": [
    {
     "data": {
      "text/plain": [
       "[['func', 'main', '(', ')', '{'],\n",
       " ['let', 'numar1', '=', '17'],\n",
       " ['let', 'numar2', '=', '100', '-', '20'],\n",
       " ['arr',\n",
       "  'numere',\n",
       "  '=',\n",
       "  '[',\n",
       "  '1',\n",
       "  ',',\n",
       "  '2',\n",
       "  ',',\n",
       "  '3',\n",
       "  ',',\n",
       "  '4',\n",
       "  ',',\n",
       "  '\"',\n",
       "  'verde',\n",
       "  '\"',\n",
       "  ']'],\n",
       " ['func', 'add', '(', 'num1', ',', 'num2', ')', '{'],\n",
       " ['suma', '=', 'num1', '+', 'num2'],\n",
       " ['return', 'suma'],\n",
       " ['}'],\n",
       " ['add', '(', 'numar1', ',', 'numar2', ')'],\n",
       " ['}']]"
      ]
     },
     "execution_count": 9,
     "metadata": {},
     "output_type": "execute_result"
    }
   ],
   "source": [
    "lexer.literals"
   ]
  },
  {
   "cell_type": "code",
   "execution_count": null,
   "id": "3a467872",
   "metadata": {},
   "outputs": [],
   "source": []
  }
 ],
 "metadata": {
  "kernelspec": {
   "display_name": "Python 3 (ipykernel)",
   "language": "python",
   "name": "python3"
  },
  "language_info": {
   "codemirror_mode": {
    "name": "ipython",
    "version": 3
   },
   "file_extension": ".py",
   "mimetype": "text/x-python",
   "name": "python",
   "nbconvert_exporter": "python",
   "pygments_lexer": "ipython3",
   "version": "3.8.0"
  }
 },
 "nbformat": 4,
 "nbformat_minor": 5
}
