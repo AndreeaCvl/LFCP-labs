{
 "cells": [
  {
   "cell_type": "code",
   "execution_count": 50,
   "id": "14ceda6a",
   "metadata": {},
   "outputs": [],
   "source": [
    "program = open('lab3_program.txt')"
   ]
  },
  {
   "cell_type": "code",
   "execution_count": 51,
   "id": "cb6a8134",
   "metadata": {
    "scrolled": false
   },
   "outputs": [
    {
     "data": {
      "text/plain": [
       "['func main ( ) {\\n',\n",
       " 'let numar1 = 17\\n',\n",
       " 'let numar2 = 100 - 20\\n',\n",
       " 'arr numere = [ 1, 2, 3, 4, \"verde\" ]\\n',\n",
       " 'func add ( num1, num2 ) {\\n',\n",
       " 'suma = num1 + num2\\n',\n",
       " 'return suma\\n',\n",
       " '}\\n',\n",
       " 'add ( numar1, numar2 )\\n',\n",
       " '}']"
      ]
     },
     "execution_count": 51,
     "metadata": {},
     "output_type": "execute_result"
    }
   ],
   "source": [
    "mylist = program.readlines()\n",
    "mylist"
   ]
  },
  {
   "cell_type": "code",
   "execution_count": 64,
   "id": "02061c10",
   "metadata": {},
   "outputs": [
    {
     "name": "stdout",
     "output_type": "stream",
     "text": [
      "[['FUNC', 'func'], ['IDENTIFIER', 'main'], ['LROUNDPAR', '('], ['RROUNDPAR', ')'], ['LBRACE', '{'], ['VAR', 'let'], ['IDENTIFIER', 'numar1'], ['OPERATOR', '='], ['INTEGER', '1'], ['VAR', 'let'], ['IDENTIFIER', 'numar2'], ['OPERATOR', '='], ['INTEGER', '10'], ['OPERATOR', '-'], ['INTEGER', '2'], ['ARRAY', 'arr'], ['IDENTIFIER', 'numere'], ['OPERATOR', '='], ['LPAR', '['], ['INTEGER', '1'], ['INTEGER', '2'], ['INTEGER', '3'], ['INTEGER', '4'], ['STRING', 'verde'], ['RPAR', ']'], ['FUNC', 'func'], ['IDENTIFIER', 'add'], ['LROUNDPAR', '('], ['IDENTIFIER', 'num1,'], ['IDENTIFIER', 'num2'], ['RROUNDPAR', ')'], ['LBRACE', '{'], ['IDENTIFIER', 'suma'], ['OPERATOR', '='], ['IDENTIFIER', 'num1'], ['OPERATOR', '+'], ['IDENTIFIER', 'num2'], ['RETURN', 'return'], ['IDENTIFIER', 'suma'], ['RBRACE', '}'], ['IDENTIFIER', 'add'], ['LROUNDPAR', '('], ['IDENTIFIER', 'numar1,'], ['IDENTIFIER', 'numar2'], ['RROUNDPAR', ')'], ['RBRACE', '}']]\n"
     ]
    }
   ],
   "source": [
    "import re\n",
    "\n",
    "tokens = []\n",
    "for i in range(len(mylist)):\n",
    "    source_code = mylist[i].split()\n",
    "\n",
    "    for word in source_code:\n",
    "\n",
    "        if word == 'func': \n",
    "            tokens.append(['FUNC', word])\n",
    "\n",
    "        elif word == 'let':\n",
    "             tokens.append(['VAR', word])\n",
    "\n",
    "        elif word == 'return':\n",
    "             tokens.append(['RETURN', word])\n",
    "\n",
    "        elif word == 'arr':\n",
    "             tokens.append(['ARRAY', word])\n",
    "                \n",
    "        elif word == '{':\n",
    "             tokens.append(['LBRACE', word])\n",
    "                \n",
    "        elif word == '}':\n",
    "             tokens.append(['RBRACE', word])\n",
    "                \n",
    "        elif word == '[':\n",
    "             tokens.append(['LPAR', word])\n",
    "                \n",
    "        elif word == ']':\n",
    "             tokens.append(['RPAR', word])\n",
    "                \n",
    "        elif word == '(':\n",
    "             tokens.append(['LROUNDPAR', word])\n",
    "                \n",
    "        elif word == ')':\n",
    "             tokens.append(['RROUNDPAR', word])\n",
    "                \n",
    "        elif re.match(r\"\\\"\", word) or re.match(\"[A-Z]\", word):\n",
    "            tokens.append(['STRING', word[1:-1]])\n",
    "\n",
    "        elif re.match(\"[a-z]\", word) or re.match(\"[A-Z]\", word):\n",
    "            tokens.append(['IDENTIFIER', word])\n",
    "\n",
    "        elif word in '-+=':\n",
    "            tokens.append(['OPERATOR', word])\n",
    "\n",
    "        elif re.match(\"[0-9]\", word):\n",
    "            tokens.append([\"INTEGER\", word[:-1]])\n",
    "            \n",
    "        else:\n",
    "            tokens.append([\"INTEGER\", word])\n",
    "\n",
    "print(tokens) # Outputs the token array"
   ]
  },
  {
   "cell_type": "code",
   "execution_count": 62,
   "id": "f093ffc6",
   "metadata": {},
   "outputs": [],
   "source": [
    "DIGITS = '0123456789'\n",
    "LETTERS = 'abcdefghijklmnopqrstuvwxyzABDEFGHIJKLMNOPQRSTUVWXYZ'\n",
    "CHARS = 'abcdefghijklmnopqrstuvwxyzABDEFGHIJKLMNOPQRSTUVWXYZ0123456789'\n",
    "\n",
    "INTEGER = 'INTEGER'\n",
    "STRING = 'STRING'\n",
    "ID = 'IDENTIFIER'\n",
    "\n",
    "LEFTPAR = 'LEFTPAR'\n",
    "RIGHTPAR = 'RIGHTPAR'\n",
    "LEFTBRACE = 'LEFTBRACE'\n",
    "RIGHTBRACE = 'RIGHTBRACE'\n",
    "\n",
    "ASSIGN = 'ASSIGN'\n",
    "PLUS = 'PLUS'\n",
    "MINUS = 'MINUS'\n",
    "\n",
    "COMMA = 'COMMA'\n",
    "\n",
    "KEYWORDS = [('func','FUNC'), ('return', 'RETURN'), ('let', 'VAR'), ('arr', 'ARRAY')]"
   ]
  },
  {
   "cell_type": "code",
   "execution_count": null,
   "id": "9c7dfa96",
   "metadata": {},
   "outputs": [],
   "source": []
  }
 ],
 "metadata": {
  "kernelspec": {
   "display_name": "Python 3 (ipykernel)",
   "language": "python",
   "name": "python3"
  },
  "language_info": {
   "codemirror_mode": {
    "name": "ipython",
    "version": 3
   },
   "file_extension": ".py",
   "mimetype": "text/x-python",
   "name": "python",
   "nbconvert_exporter": "python",
   "pygments_lexer": "ipython3",
   "version": "3.8.0"
  }
 },
 "nbformat": 4,
 "nbformat_minor": 5
}
