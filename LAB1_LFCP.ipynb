{
 "cells": [
  {
   "cell_type": "code",
   "execution_count": 27,
   "id": "b80c0b96",
   "metadata": {},
   "outputs": [],
   "source": [
    "nonterminal = ['S', 'D', 'E', 'F', 'L']\n",
    "terminal = ['a', 'b', 'c', 'd']\n",
    "\n",
    "# initializing a tuple with values (v7)\n",
    "productions = tuple([\n",
    "    ('S', 'aD'),\n",
    "    ('D', 'bE'),\n",
    "    ('E', 'cF'),\n",
    "    ('F', 'dD'),\n",
    "    ('E', 'dL'),\n",
    "    ('L', 'aL'),\n",
    "    ('L', 'bL'),        \n",
    "    ('L', 'c')\n",
    "])\n"
   ]
  },
  {
   "cell_type": "code",
   "execution_count": 28,
   "id": "4bcad400",
   "metadata": {},
   "outputs": [],
   "source": [
    "# mapping nonterminal node names with q{i} \n",
    "state_dict = {}\n",
    "for i in range(len(nonterminal)):\n",
    "    state_dict[nonterminal[i]] = f'q{i}'\n",
    "final_state = f'q{i+1}'"
   ]
  },
  {
   "cell_type": "code",
   "execution_count": 29,
   "id": "1426a1d4",
   "metadata": {},
   "outputs": [
    {
     "data": {
      "text/plain": [
       "{'S': 'q0', 'D': 'q1', 'E': 'q2', 'F': 'q3', 'L': 'q4'}"
      ]
     },
     "execution_count": 29,
     "metadata": {},
     "output_type": "execute_result"
    }
   ],
   "source": [
    "state_dict"
   ]
  },
  {
   "cell_type": "code",
   "execution_count": 30,
   "id": "b397004d",
   "metadata": {},
   "outputs": [],
   "source": [
    "# conversion of the regular grammar into a finite automata\n",
    "def convertToFA(prod):\n",
    "    fa = {}\n",
    "    for row in prod:\n",
    "        if len(row[1]) == 2:\n",
    "            fa[(state_dict[row[1][1]], row[1][0])] = state_dict[row[0]]\n",
    "        else:\n",
    "            fa[(final_state, row[1])] = state_dict[row[0]]\n",
    "\n",
    "    return fa"
   ]
  },
  {
   "cell_type": "code",
   "execution_count": 31,
   "id": "e0cf1557",
   "metadata": {
    "scrolled": true
   },
   "outputs": [
    {
     "data": {
      "text/plain": [
       "{('q1', 'a'): 'q0',\n",
       " ('q2', 'b'): 'q1',\n",
       " ('q3', 'c'): 'q2',\n",
       " ('q1', 'd'): 'q3',\n",
       " ('q4', 'd'): 'q2',\n",
       " ('q4', 'a'): 'q4',\n",
       " ('q4', 'b'): 'q4',\n",
       " ('q5', 'c'): 'q4'}"
      ]
     },
     "execution_count": 31,
     "metadata": {},
     "output_type": "execute_result"
    }
   ],
   "source": [
    "convertToFA(productions)"
   ]
  },
  {
   "cell_type": "code",
   "execution_count": 32,
   "id": "8e848c7c",
   "metadata": {},
   "outputs": [],
   "source": [
    "# reformating the productions set\n",
    "def refractor(prod):\n",
    "    productions_set = ([0] * len(prod))\n",
    "    for i in range(len(prod)):\n",
    "        if len(prod[i][1]) == 2:\n",
    "            productions_set[i] = [prod[i][0], prod[i][1][0], prod[i][1][1]]\n",
    "        else:\n",
    "            productions_set[i] = [prod[i][0], prod[i][1], 'Q']\n",
    "    return productions_set"
   ]
  },
  {
   "cell_type": "code",
   "execution_count": 33,
   "id": "c063a6dc",
   "metadata": {},
   "outputs": [
    {
     "data": {
      "text/plain": [
       "[['S', 'a', 'D'],\n",
       " ['D', 'b', 'E'],\n",
       " ['E', 'c', 'F'],\n",
       " ['F', 'd', 'D'],\n",
       " ['E', 'd', 'L'],\n",
       " ['L', 'a', 'L'],\n",
       " ['L', 'b', 'L'],\n",
       " ['L', 'c', 'Q']]"
      ]
     },
     "execution_count": 33,
     "metadata": {},
     "output_type": "execute_result"
    }
   ],
   "source": [
    "productions_set = refractor(productions)\n",
    "productions_set"
   ]
  },
  {
   "cell_type": "code",
   "execution_count": 34,
   "id": "08c80f12",
   "metadata": {},
   "outputs": [],
   "source": [
    "def FA_check(prod, text):\n",
    "    \n",
    "    # initializing v with false. It will become true in case the input string is accepted by FA \n",
    "    v = False\n",
    "\n",
    "    for k in range(len(prod)):\n",
    "        # checking if the starting state is S\n",
    "        if text[0] == prod[k][1] and prod[k][0] == 'S':\n",
    "\n",
    "            current_state = prod[k][2]\n",
    "            print('S', end = ' ')\n",
    "            print(current_state, end = ' ')\n",
    "\n",
    "            for i in range(1, len(text)):\n",
    "                state_found = False\n",
    "                if text[i] in terminal:\n",
    "                    # finding the next state\n",
    "                    for j in range(len(prod)):\n",
    "                        if text[i] in prod[j][1] and current_state == prod[j][0]:\n",
    "                            current_state = prod[j][2]\n",
    "                            state_found = True\n",
    "                            print(current_state, end = ' ')\n",
    "\n",
    "                    if state_found == False:\n",
    "                        return v\n",
    "                    if current_state == 'Q' and i == len(text)-1:\n",
    "                        v = True\n",
    "                        return v\n",
    "                else:\n",
    "                    return v\n",
    "\n",
    "            break\n",
    "    return v\n",
    "    "
   ]
  },
  {
   "cell_type": "code",
   "execution_count": 35,
   "id": "0faf5729",
   "metadata": {
    "scrolled": true
   },
   "outputs": [
    {
     "name": "stdout",
     "output_type": "stream",
     "text": [
      "S D E F D E L Q "
     ]
    },
    {
     "data": {
      "text/plain": [
       "True"
      ]
     },
     "execution_count": 35,
     "metadata": {},
     "output_type": "execute_result"
    }
   ],
   "source": [
    "# should be true\n",
    "FA_check(productions_set, \"abcdbdc\")"
   ]
  },
  {
   "cell_type": "code",
   "execution_count": 36,
   "id": "7a7d9066",
   "metadata": {
    "scrolled": true
   },
   "outputs": [
    {
     "name": "stdout",
     "output_type": "stream",
     "text": [
      "S D E L Q "
     ]
    },
    {
     "data": {
      "text/plain": [
       "True"
      ]
     },
     "execution_count": 36,
     "metadata": {},
     "output_type": "execute_result"
    }
   ],
   "source": [
    "# should be true\n",
    "FA_check(productions_set, \"abdc\")"
   ]
  },
  {
   "cell_type": "code",
   "execution_count": 37,
   "id": "da43a12c",
   "metadata": {
    "scrolled": true
   },
   "outputs": [
    {
     "name": "stdout",
     "output_type": "stream",
     "text": [
      "S D E F D E F D "
     ]
    },
    {
     "data": {
      "text/plain": [
       "False"
      ]
     },
     "execution_count": 37,
     "metadata": {},
     "output_type": "execute_result"
    }
   ],
   "source": [
    "# should be false\n",
    "FA_check(productions_set, \"abcdbcd\")"
   ]
  },
  {
   "cell_type": "code",
   "execution_count": 38,
   "id": "25567e72",
   "metadata": {
    "scrolled": true
   },
   "outputs": [
    {
     "name": "stdout",
     "output_type": "stream",
     "text": [
      "S D E F D E L Q "
     ]
    },
    {
     "data": {
      "text/plain": [
       "False"
      ]
     },
     "execution_count": 38,
     "metadata": {},
     "output_type": "execute_result"
    }
   ],
   "source": [
    "# should be false (one more invalid transition after reaching the final node)\n",
    "FA_check(productions_set, \"abcdbdca\")"
   ]
  },
  {
   "cell_type": "code",
   "execution_count": null,
   "id": "016e0d5f",
   "metadata": {},
   "outputs": [],
   "source": []
  }
 ],
 "metadata": {
  "kernelspec": {
   "display_name": "Python 3 (ipykernel)",
   "language": "python",
   "name": "python3"
  },
  "language_info": {
   "codemirror_mode": {
    "name": "ipython",
    "version": 3
   },
   "file_extension": ".py",
   "mimetype": "text/x-python",
   "name": "python",
   "nbconvert_exporter": "python",
   "pygments_lexer": "ipython3",
   "version": "3.8.0"
  }
 },
 "nbformat": 4,
 "nbformat_minor": 5
}
