{
 "cells": [
  {
   "cell_type": "markdown",
   "id": "259f9481",
   "metadata": {},
   "source": [
    "# LAB 2 - NFA to DFA conversion"
   ]
  },
  {
   "cell_type": "markdown",
   "id": "1dae8262",
   "metadata": {},
   "source": [
    "## NFA class"
   ]
  },
  {
   "cell_type": "code",
   "execution_count": 1,
   "id": "4b228003",
   "metadata": {},
   "outputs": [],
   "source": [
    "class NFA:\n",
    "    # define a NFA class to parse the initial input and represent the NFA\n",
    "\n",
    "    def __init__(self, a, states, transitions):\n",
    "        \"\"\"\n",
    "            The constructor of the NFA\n",
    "                :param a: 2d tuple\n",
    "                    The transition table\n",
    "                :param states: 1-d list\n",
    "                    All states of the NFA\n",
    "                :param transitions: 1-d list\n",
    "                    All transition variables of the NFA\n",
    "        \"\"\"\n",
    "\n",
    "        # Setting up the hyper-parameters\n",
    "        self.nfa_dict = {}\n",
    "        self._a = a\n",
    "        self._states = states\n",
    "        self._transitions = transitions\n",
    "\n",
    "    def parse_input(self):\n",
    "\n",
    "        \"\"\"\n",
    "            Reads the input and converts it into a NFA\n",
    "                :return: dict\n",
    "                    Analytical representation of the NFA\n",
    "        \"\"\"\n",
    "\n",
    "        # initializing an empty dict with states and transition variables as keys\n",
    "\n",
    "        for Q in self._states:\n",
    "            self.nfa_dict[Q] = {}\n",
    "            for T in self._transitions:\n",
    "                self.nfa_dict[Q][T] = ''\n",
    "\n",
    "        for i in range(len(self._a)):\n",
    "            # saving the current needed values in some variables for more readable code\n",
    "            state = self._a[i][0]\n",
    "            transition = self._a[i][1]\n",
    "            dest = self._a[i][2]\n",
    "\n",
    "            # assigning the keys with corresponding values\n",
    "            dest += self.nfa_dict[state][transition]\n",
    "            self.nfa_dict[state][transition] = dest\n",
    "\n",
    "        return self.nfa_dict\n"
   ]
  },
  {
   "cell_type": "markdown",
   "id": "747a7163",
   "metadata": {},
   "source": [
    "## DFA class"
   ]
  },
  {
   "cell_type": "code",
   "execution_count": 2,
   "id": "aeecc0fa",
   "metadata": {},
   "outputs": [],
   "source": [
    "class DFA:\n",
    "    # define a DFA class to parse store the DFA and the functions for converting the NFA to DFA\n",
    "\n",
    "    def __init__(self, nfa):\n",
    "        \"\"\"\n",
    "            The constructor of the DFA\n",
    "                :param nfa: dict\n",
    "                    The NFA to convert\n",
    "        \"\"\"\n",
    "\n",
    "        # Setting up the hyper-parameters\n",
    "        self.T = None\n",
    "        self.Q = None\n",
    "        self._nfa = nfa\n",
    "\n",
    "    def convert(self):\n",
    "        \"\"\"\n",
    "            Function to convert NFA to DFA\n",
    "        \"\"\"\n",
    "\n",
    "        def initiate():\n",
    "            print('CONVERTING THE NFA TO DFA:')\n",
    "\n",
    "            # Q - a new set of states of the DFA.\n",
    "            # T - a new transition table of the DFA.\n",
    "            self.Q = []\n",
    "            self.T = {}\n",
    "            print(f'Step 1: T = {self.T}')\n",
    "            add_starting_state()\n",
    "\n",
    "        def add_starting_state():\n",
    "\n",
    "            # Add q0 to Q and transitions of start state q0 to the transition table T\n",
    "            self.Q.append('q0')\n",
    "            self.T['q0'] = self._nfa['q0']\n",
    "            print(f'Step 2: T = {self.T}')\n",
    "            print('Step 3:')\n",
    "            add_new_states('q0')\n",
    "\n",
    "        def add_new_states(last_key):\n",
    "            \"\"\"\n",
    "                Function to add new states and transitions until no new states in T\n",
    "                    :param last_key: string\n",
    "                        Last added state in T\n",
    "            \"\"\"\n",
    "\n",
    "            print(f'T = {self.T}')\n",
    "\n",
    "            # iterating trough every transition state of the last added state\n",
    "            for transition in self.T[last_key]:\n",
    "                state = self.T[last_key][transition]\n",
    "\n",
    "                if len(state) == 2:\n",
    "                    if state not in self.Q:\n",
    "                        self.Q.append(state)\n",
    "                        self.T[state] = self._nfa[state]\n",
    "\n",
    "                        # calling the function recursively for a new added state\n",
    "                        add_new_states(state)\n",
    "\n",
    "                elif len(state) > 2:\n",
    "                    # in case of nondeterminism (multiple states for a single transition)\n",
    "                    remove_nondeterminism(state)\n",
    "\n",
    "            return self.T\n",
    "\n",
    "        def remove_nondeterminism(string):\n",
    "            \"\"\"\n",
    "                Function to add new states and transitions when there are multiple destination states\n",
    "                    :param string: string\n",
    "                        The 'list' of destination-states\n",
    "            \"\"\"\n",
    "            i = 0\n",
    "            set_of_states = set()\n",
    "\n",
    "            # creating a set with all states after a transition\n",
    "            # (because sets are unordered, so it will allow us to compare with sets of states already present in Q)\n",
    "            while i < len(string):\n",
    "                s = string[i] + string[i + 1]\n",
    "                set_of_states.add(s)\n",
    "                i += 2\n",
    "\n",
    "            if set_of_states not in self.Q:\n",
    "                self.T[string] = {}\n",
    "                self.Q.append(set_of_states)\n",
    "\n",
    "                # finding the 'destination-states' for each transition of the states in the built above set\n",
    "                for key in self.T['q0']:\n",
    "                    set_of_dest = set()\n",
    "                    dest = ''\n",
    "\n",
    "                    for state in set_of_states:\n",
    "                        if len(self._nfa[state][key]) == 2:\n",
    "                            set_of_dest.add(self._nfa[state][key])\n",
    "                        elif len(self._nfa[state][key]) > 2:\n",
    "                            i = 0\n",
    "\n",
    "                            while i < len(self._nfa[state][key]):\n",
    "                                s = self._nfa[state][key][i] + self._nfa[state][key][i + 1]\n",
    "                                set_of_dest.add(s)\n",
    "                                i += 2\n",
    "\n",
    "                    # adding the detected destination-states for a given key and initial state to the transition table\n",
    "                    for d in set_of_dest:\n",
    "                        dest = dest + d\n",
    "                    self.T[string][key] = dest\n",
    "                # calling the addNewStates function for the last added key (destination-state)\n",
    "                add_new_states(string)\n",
    "\n",
    "        initiate()\n",
    "        return self.T"
   ]
  },
  {
   "cell_type": "markdown",
   "id": "86812373",
   "metadata": {},
   "source": [
    "### INPUT"
   ]
  },
  {
   "cell_type": "code",
   "execution_count": 3,
   "id": "ec033cce",
   "metadata": {},
   "outputs": [],
   "source": [
    "st = ['q0', 'q1', 'q2', 'q3']\n",
    "tr = ['a', 'b']\n",
    "\n",
    "nfa_input = (('q0', 'a', 'q1'),\n",
    "             ('q1', 'b', 'q2'),\n",
    "             ('q2', 'b', 'q3'),\n",
    "             ('q3', 'a', 'q1'),\n",
    "             ('q2', 'b', 'q2'),\n",
    "             ('q1', 'a', 'q1'))"
   ]
  },
  {
   "cell_type": "markdown",
   "id": "84db40ab",
   "metadata": {},
   "source": [
    "### Calling the functions"
   ]
  },
  {
   "cell_type": "code",
   "execution_count": 4,
   "id": "69af94c4",
   "metadata": {},
   "outputs": [
    {
     "name": "stdout",
     "output_type": "stream",
     "text": [
      "CONVERTING THE NFA TO DFA:\n",
      "Step 1: T = {}\n",
      "Step 2: T = {'q0': {'a': 'q1', 'b': ''}}\n",
      "Step 3:\n",
      "T = {'q0': {'a': 'q1', 'b': ''}}\n",
      "T = {'q0': {'a': 'q1', 'b': ''}, 'q1': {'a': 'q1', 'b': 'q2'}}\n",
      "T = {'q0': {'a': 'q1', 'b': ''}, 'q1': {'a': 'q1', 'b': 'q2'}, 'q2': {'a': '', 'b': 'q2q3'}}\n",
      "T = {'q0': {'a': 'q1', 'b': ''}, 'q1': {'a': 'q1', 'b': 'q2'}, 'q2': {'a': '', 'b': 'q2q3'}, 'q2q3': {'a': 'q1', 'b': 'q3q2'}}\n"
     ]
    }
   ],
   "source": [
    "my_nfa = NFA(nfa_input, st, tr).parse_input()\n",
    "my_dfa = DFA(my_nfa).convert()"
   ]
  },
  {
   "cell_type": "markdown",
   "id": "99799462",
   "metadata": {},
   "source": [
    "### OUTPUT"
   ]
  },
  {
   "cell_type": "code",
   "execution_count": 5,
   "id": "afa19e32",
   "metadata": {},
   "outputs": [
    {
     "data": {
      "text/plain": [
       "{'q0': {'a': 'q1', 'b': ''},\n",
       " 'q1': {'a': 'q1', 'b': 'q2'},\n",
       " 'q2': {'a': '', 'b': 'q2q3'},\n",
       " 'q3': {'a': 'q1', 'b': ''}}"
      ]
     },
     "execution_count": 5,
     "metadata": {},
     "output_type": "execute_result"
    }
   ],
   "source": [
    "my_nfa"
   ]
  },
  {
   "cell_type": "code",
   "execution_count": 6,
   "id": "8c87ed31",
   "metadata": {},
   "outputs": [
    {
     "data": {
      "text/plain": [
       "{'q0': {'a': 'q1', 'b': ''},\n",
       " 'q1': {'a': 'q1', 'b': 'q2'},\n",
       " 'q2': {'a': '', 'b': 'q2q3'},\n",
       " 'q2q3': {'a': 'q1', 'b': 'q3q2'}}"
      ]
     },
     "execution_count": 6,
     "metadata": {},
     "output_type": "execute_result"
    }
   ],
   "source": [
    "my_dfa"
   ]
  },
  {
   "cell_type": "code",
   "execution_count": null,
   "id": "fdc9713e",
   "metadata": {},
   "outputs": [],
   "source": []
  }
 ],
 "metadata": {
  "kernelspec": {
   "display_name": "Python 3 (ipykernel)",
   "language": "python",
   "name": "python3"
  },
  "language_info": {
   "codemirror_mode": {
    "name": "ipython",
    "version": 3
   },
   "file_extension": ".py",
   "mimetype": "text/x-python",
   "name": "python",
   "nbconvert_exporter": "python",
   "pygments_lexer": "ipython3",
   "version": "3.8.0"
  }
 },
 "nbformat": 4,
 "nbformat_minor": 5
}
